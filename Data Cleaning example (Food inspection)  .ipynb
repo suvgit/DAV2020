{
 "cells": [
  {
   "cell_type": "markdown",
   "metadata": {},
   "source": [
    "# https://medium.com/@sachanirenuka/food-inspection-data-cleansing-fc26bac3e885"
   ]
  },
  {
   "cell_type": "code",
   "execution_count": 1,
   "metadata": {},
   "outputs": [],
   "source": [
    "# importing libraries\n",
    "import csv\n",
    "from collections import Counter"
   ]
  },
  {
   "cell_type": "code",
   "execution_count": 5,
   "metadata": {},
   "outputs": [],
   "source": [
    "# Download the csv data file from https://data.cityofchicago.org/Health-Human-Services/Food-Inspections/4ijn-s7e5 \n",
    "# Read the csv file and store in a list variable \n",
    "food = list(csv.DictReader(open('Food.csv')))"
   ]
  },
  {
   "cell_type": "code",
   "execution_count": 6,
   "metadata": {},
   "outputs": [
    {
     "data": {
      "text/plain": [
       "OrderedDict([('Inspection ID', '2177022'),\n",
       "             ('DBA Name', 'CORNERSTONE CHILD CARE'),\n",
       "             ('AKA Name', 'CORNERSTONE CHILD CARE'),\n",
       "             ('License #', '2215716'),\n",
       "             ('Facility Type', 'Daycare Above and Under 2 Years'),\n",
       "             ('Risk', 'Risk 1 (High)'),\n",
       "             ('Address', '1111 N WELLS ST'),\n",
       "             ('City', 'CHICAGO'),\n",
       "             ('State', 'IL'),\n",
       "             ('Zip', '60610'),\n",
       "             ('Inspection Date', '06/08/2018'),\n",
       "             ('Inspection Type', 'Canvass'),\n",
       "             ('Results', 'Pass'),\n",
       "             ('Violations',\n",
       "              '32. FOOD AND NON-FOOD CONTACT SURFACES PROPERLY DESIGNED, CONSTRUCTED AND MAINTAINED - Comments: Observed duct tape used as means of repair on faucet sprayer in pre school 1 class room. Instructed manager to repair and maintain at all times.  | 35. WALLS, CEILINGS, ATTACHED EQUIPMENT CONSTRUCTED PER CODE: GOOD REPAIR, SURFACES CLEAN AND DUST-LESS CLEANING METHODS - Comments: Observed 72 X 38 in wide square hole in wall and ceiling of mop closet, directly above mop sink, at all times. Instructed manager to repair and maintain at all times. | 38. VENTILATION: ROOMS AND EQUIPMENT VENTED AS REQUIRED: PLUMBING: INSTALLED AND MAINTAINED - Comments: Observed small leak underneath 1 comp sink in early pre school class room. Instructed manager to repair and maintain at all times.  Observed small leak at sprayer faucet in pre school 1 class room. Instructed manager to repair and maintain at all times.  | 41. PREMISES MAINTAINED FREE OF LITTER, UNNECESSARY ARTICLES, CLEANING  EQUIPMENT PROPERLY STORED - Comments: Observed clutter, arts and crafts supplies, stored on floor in closet of pre-K one room. Instructed manager to elevate, remove any unnecessary items and organize entire area and elevate at least 6 inches off the floor at all times.'),\n",
       "             ('Latitude', '41.90243867998565'),\n",
       "             ('Longitude', '-87.63427774207456'),\n",
       "             ('Location', '(41.90243867998565, -87.63427774207456)')])"
      ]
     },
     "execution_count": 6,
     "metadata": {},
     "output_type": "execute_result"
    }
   ],
   "source": [
    "# checking the first record in the list\n",
    "food[0]"
   ]
  },
  {
   "cell_type": "markdown",
   "metadata": {},
   "source": [
    "# Problem 1: Uppercase"
   ]
  },
  {
   "cell_type": "code",
   "execution_count": 7,
   "metadata": {},
   "outputs": [],
   "source": [
    "for row in food:\n",
    "        row['DBA Name'] = row['DBA Name'].upper()\n",
    "        row['AKA Name'] = row['AKA Name'].upper()\n",
    "        row['Facility Type'] = row['Facility Type'].upper()\n",
    "        row['Risk'] = row['Risk'].upper()\n",
    "        row['Address'] = row['Address'].upper()\n",
    "        row['City'] = row['City'].upper()\n",
    "        row['State'] = row['State'].upper()\n",
    "        row['Zip'] = row['Zip'].upper()\n",
    "        row['Inspection Type'] = row['Inspection Type'].upper()\n",
    "        row['Results'] = row['Results'].upper()\n",
    "        row['Violations'] = row['Violations'].upper()     \n",
    "        "
   ]
  },
  {
   "cell_type": "code",
   "execution_count": 8,
   "metadata": {},
   "outputs": [
    {
     "data": {
      "text/plain": [
       "OrderedDict([('Inspection ID', '2177022'),\n",
       "             ('DBA Name', 'CORNERSTONE CHILD CARE'),\n",
       "             ('AKA Name', 'CORNERSTONE CHILD CARE'),\n",
       "             ('License #', '2215716'),\n",
       "             ('Facility Type', 'DAYCARE ABOVE AND UNDER 2 YEARS'),\n",
       "             ('Risk', 'RISK 1 (HIGH)'),\n",
       "             ('Address', '1111 N WELLS ST'),\n",
       "             ('City', 'CHICAGO'),\n",
       "             ('State', 'IL'),\n",
       "             ('Zip', '60610'),\n",
       "             ('Inspection Date', '06/08/2018'),\n",
       "             ('Inspection Type', 'CANVASS'),\n",
       "             ('Results', 'PASS'),\n",
       "             ('Violations',\n",
       "              '32. FOOD AND NON-FOOD CONTACT SURFACES PROPERLY DESIGNED, CONSTRUCTED AND MAINTAINED - COMMENTS: OBSERVED DUCT TAPE USED AS MEANS OF REPAIR ON FAUCET SPRAYER IN PRE SCHOOL 1 CLASS ROOM. INSTRUCTED MANAGER TO REPAIR AND MAINTAIN AT ALL TIMES.  | 35. WALLS, CEILINGS, ATTACHED EQUIPMENT CONSTRUCTED PER CODE: GOOD REPAIR, SURFACES CLEAN AND DUST-LESS CLEANING METHODS - COMMENTS: OBSERVED 72 X 38 IN WIDE SQUARE HOLE IN WALL AND CEILING OF MOP CLOSET, DIRECTLY ABOVE MOP SINK, AT ALL TIMES. INSTRUCTED MANAGER TO REPAIR AND MAINTAIN AT ALL TIMES. | 38. VENTILATION: ROOMS AND EQUIPMENT VENTED AS REQUIRED: PLUMBING: INSTALLED AND MAINTAINED - COMMENTS: OBSERVED SMALL LEAK UNDERNEATH 1 COMP SINK IN EARLY PRE SCHOOL CLASS ROOM. INSTRUCTED MANAGER TO REPAIR AND MAINTAIN AT ALL TIMES.  OBSERVED SMALL LEAK AT SPRAYER FAUCET IN PRE SCHOOL 1 CLASS ROOM. INSTRUCTED MANAGER TO REPAIR AND MAINTAIN AT ALL TIMES.  | 41. PREMISES MAINTAINED FREE OF LITTER, UNNECESSARY ARTICLES, CLEANING  EQUIPMENT PROPERLY STORED - COMMENTS: OBSERVED CLUTTER, ARTS AND CRAFTS SUPPLIES, STORED ON FLOOR IN CLOSET OF PRE-K ONE ROOM. INSTRUCTED MANAGER TO ELEVATE, REMOVE ANY UNNECESSARY ITEMS AND ORGANIZE ENTIRE AREA AND ELEVATE AT LEAST 6 INCHES OFF THE FLOOR AT ALL TIMES.'),\n",
       "             ('Latitude', '41.90243867998565'),\n",
       "             ('Longitude', '-87.63427774207456'),\n",
       "             ('Location', '(41.90243867998565, -87.63427774207456)')])"
      ]
     },
     "execution_count": 8,
     "metadata": {},
     "output_type": "execute_result"
    }
   ],
   "source": [
    "food[0]"
   ]
  },
  {
   "cell_type": "markdown",
   "metadata": {},
   "source": [
    "# Problem 2: Null value handling and justification"
   ]
  },
  {
   "cell_type": "code",
   "execution_count": 12,
   "metadata": {},
   "outputs": [
    {
     "data": {
      "text/plain": [
       "Counter({'': 2480})"
      ]
     },
     "execution_count": 12,
     "metadata": {},
     "output_type": "execute_result"
    }
   ],
   "source": [
    "# Checking the null count in the column 'AKA Name'\n",
    "Counter([row['AKA Name'] for row in food if row['AKA Name'] == ''])"
   ]
  },
  {
   "cell_type": "code",
   "execution_count": 14,
   "metadata": {},
   "outputs": [],
   "source": [
    "# Replace null values for AKA Names in the 2480 rows with their DBA Names\n",
    "for row in food:\n",
    "    if row['AKA Name'] == '':\n",
    "        row['AKA Name'] = row['DBA Name']"
   ]
  },
  {
   "cell_type": "code",
   "execution_count": 15,
   "metadata": {},
   "outputs": [
    {
     "data": {
      "text/plain": [
       "Counter()"
      ]
     },
     "execution_count": 15,
     "metadata": {},
     "output_type": "execute_result"
    }
   ],
   "source": [
    "# Recheck the null count in the column 'AKA Name'\n",
    "Counter([row['AKA Name'] for row in food if row['AKA Name'] == ''])"
   ]
  },
  {
   "cell_type": "markdown",
   "metadata": {},
   "source": [
    "# Problem 3: Incorrect spelling, unwanted paranthesis, backslash and single inverted quote"
   ]
  },
  {
   "cell_type": "code",
   "execution_count": 17,
   "metadata": {},
   "outputs": [
    {
     "data": {
      "text/plain": [
       "Counter({'CHICAGO': 208048,\n",
       "         'CCHICAGO': 48,\n",
       "         '312CHICAGO': 2,\n",
       "         'CHICAGOCHICAGO': 9,\n",
       "         'CHICAGOHICAGO': 3,\n",
       "         'CHICAGOBEDFORD PARK': 1,\n",
       "         'CHICAGOI': 3,\n",
       "         'CHCHICAGO': 6,\n",
       "         'SCHILLER PARK': 3,\n",
       "         'CHICAGO.': 2,\n",
       "         'CHICAGO HEIGHTS': 2})"
      ]
     },
     "execution_count": 17,
     "metadata": {},
     "output_type": "execute_result"
    }
   ],
   "source": [
    "# Checking cities which start with CHI\n",
    "Counter([row['City'] for row in food if 'CHI' in row['City']])"
   ]
  },
  {
   "cell_type": "code",
   "execution_count": 18,
   "metadata": {},
   "outputs": [],
   "source": [
    "# Replace with the right spelling of the city 'CHICAGO'\n",
    "for row in food:\n",
    "    if row['City'].endswith('CAGO') or row['City'].endswith('CAGOI') or row['City']=='CHICAGOBEDFORD PARK' or row['City']=='CHICAGO HEIGHTS':\n",
    "        row['City'] = 'CHICAGO'"
   ]
  },
  {
   "cell_type": "code",
   "execution_count": 22,
   "metadata": {},
   "outputs": [
    {
     "data": {
      "text/plain": [
       "Counter({'CHICAGO': 208125, 'SCHILLER PARK': 3, 'CHICAGO.': 2})"
      ]
     },
     "execution_count": 22,
     "metadata": {},
     "output_type": "execute_result"
    }
   ],
   "source": [
    "Counter([row['City'] for row in food if 'CHI' in row['City']])"
   ]
  },
  {
   "cell_type": "code",
   "execution_count": 27,
   "metadata": {},
   "outputs": [
    {
     "data": {
      "text/plain": [
       "'32. FOOD AND NON-FOOD CONTACT SURFACES PROPERLY DESIGNED, CONSTRUCTED AND MAINTAINED - COMMENTS: OBSERVED DUCT TAPE USED AS MEANS OF REPAIR ON FAUCET SPRAYER IN PRE SCHOOL 1 CLASS ROOM. INSTRUCTED MANAGER TO REPAIR AND MAINTAIN AT ALL TIMES.  | 35. WALLS, CEILINGS, ATTACHED EQUIPMENT CONSTRUCTED PER CODE: GOOD REPAIR, SURFACES CLEAN AND DUST-LESS CLEANING METHODS - COMMENTS: OBSERVED 72 X 38 IN WIDE SQUARE HOLE IN WALL AND CEILING OF MOP CLOSET, DIRECTLY ABOVE MOP SINK, AT ALL TIMES. INSTRUCTED MANAGER TO REPAIR AND MAINTAIN AT ALL TIMES. | 38. VENTILATION: ROOMS AND EQUIPMENT VENTED AS REQUIRED: PLUMBING: INSTALLED AND MAINTAINED - COMMENTS: OBSERVED SMALL LEAK UNDERNEATH 1 COMP SINK IN EARLY PRE SCHOOL CLASS ROOM. INSTRUCTED MANAGER TO REPAIR AND MAINTAIN AT ALL TIMES.  OBSERVED SMALL LEAK AT SPRAYER FAUCET IN PRE SCHOOL 1 CLASS ROOM. INSTRUCTED MANAGER TO REPAIR AND MAINTAIN AT ALL TIMES.  | 41. PREMISES MAINTAINED FREE OF LITTER, UNNECESSARY ARTICLES, CLEANING  EQUIPMENT PROPERLY STORED - COMMENTS: OBSERVED CLUTTER, ARTS AND CRAFTS SUPPLIES, STORED ON FLOOR IN CLOSET OF PRE-K ONE ROOM. INSTRUCTED MANAGER TO ELEVATE, REMOVE ANY UNNECESSARY ITEMS AND ORGANIZE ENTIRE AREA AND ELEVATE AT LEAST 6 INCHES OFF THE FLOOR AT ALL TIMES.'"
      ]
     },
     "execution_count": 27,
     "metadata": {},
     "output_type": "execute_result"
    }
   ],
   "source": [
    "# How to use split function to organise data\n",
    "# Checking 'Violations' column as an example\n",
    "food[0]['Violations']"
   ]
  },
  {
   "cell_type": "code",
   "execution_count": 28,
   "metadata": {},
   "outputs": [],
   "source": [
    "# Splitting the text with a suggested delimiter\n",
    "for row in food:\n",
    "    row['Violations'] = row['Violations'].split('.  |')    "
   ]
  },
  {
   "cell_type": "code",
   "execution_count": 29,
   "metadata": {},
   "outputs": [
    {
     "data": {
      "text/plain": [
       "['32. FOOD AND NON-FOOD CONTACT SURFACES PROPERLY DESIGNED, CONSTRUCTED AND MAINTAINED - COMMENTS: OBSERVED DUCT TAPE USED AS MEANS OF REPAIR ON FAUCET SPRAYER IN PRE SCHOOL 1 CLASS ROOM. INSTRUCTED MANAGER TO REPAIR AND MAINTAIN AT ALL TIMES',\n",
       " ' 35. WALLS, CEILINGS, ATTACHED EQUIPMENT CONSTRUCTED PER CODE: GOOD REPAIR, SURFACES CLEAN AND DUST-LESS CLEANING METHODS - COMMENTS: OBSERVED 72 X 38 IN WIDE SQUARE HOLE IN WALL AND CEILING OF MOP CLOSET, DIRECTLY ABOVE MOP SINK, AT ALL TIMES. INSTRUCTED MANAGER TO REPAIR AND MAINTAIN AT ALL TIMES. | 38. VENTILATION: ROOMS AND EQUIPMENT VENTED AS REQUIRED: PLUMBING: INSTALLED AND MAINTAINED - COMMENTS: OBSERVED SMALL LEAK UNDERNEATH 1 COMP SINK IN EARLY PRE SCHOOL CLASS ROOM. INSTRUCTED MANAGER TO REPAIR AND MAINTAIN AT ALL TIMES.  OBSERVED SMALL LEAK AT SPRAYER FAUCET IN PRE SCHOOL 1 CLASS ROOM. INSTRUCTED MANAGER TO REPAIR AND MAINTAIN AT ALL TIMES',\n",
       " ' 41. PREMISES MAINTAINED FREE OF LITTER, UNNECESSARY ARTICLES, CLEANING  EQUIPMENT PROPERLY STORED - COMMENTS: OBSERVED CLUTTER, ARTS AND CRAFTS SUPPLIES, STORED ON FLOOR IN CLOSET OF PRE-K ONE ROOM. INSTRUCTED MANAGER TO ELEVATE, REMOVE ANY UNNECESSARY ITEMS AND ORGANIZE ENTIRE AREA AND ELEVATE AT LEAST 6 INCHES OFF THE FLOOR AT ALL TIMES.']"
      ]
     },
     "execution_count": 29,
     "metadata": {},
     "output_type": "execute_result"
    }
   ],
   "source": [
    "# Rechecking 'Violations' column after organising data\n",
    "food[0]['Violations']"
   ]
  },
  {
   "cell_type": "code",
   "execution_count": 24,
   "metadata": {},
   "outputs": [],
   "source": [
    "# Deleteing unwanted columns from the list\n",
    "for row in food:\n",
    "    del row['Latitude']\n",
    "    del row['Longitude']"
   ]
  },
  {
   "cell_type": "code",
   "execution_count": 25,
   "metadata": {},
   "outputs": [
    {
     "data": {
      "text/plain": [
       "OrderedDict([('Inspection ID', '2177022'),\n",
       "             ('DBA Name', 'CORNERSTONE CHILD CARE'),\n",
       "             ('AKA Name', 'CORNERSTONE CHILD CARE'),\n",
       "             ('License #', '2215716'),\n",
       "             ('Facility Type', 'DAYCARE ABOVE AND UNDER 2 YEARS'),\n",
       "             ('Risk', 'RISK 1 (HIGH)'),\n",
       "             ('Address', '1111 N WELLS ST'),\n",
       "             ('City', 'CHICAGO'),\n",
       "             ('State', 'IL'),\n",
       "             ('Zip', '60610'),\n",
       "             ('Inspection Date', '06/08/2018'),\n",
       "             ('Inspection Type', 'CANVASS'),\n",
       "             ('Results', 'PASS'),\n",
       "             ('Violations',\n",
       "              '32. FOOD AND NON-FOOD CONTACT SURFACES PROPERLY DESIGNED, CONSTRUCTED AND MAINTAINED - COMMENTS: OBSERVED DUCT TAPE USED AS MEANS OF REPAIR ON FAUCET SPRAYER IN PRE SCHOOL 1 CLASS ROOM. INSTRUCTED MANAGER TO REPAIR AND MAINTAIN AT ALL TIMES.  | 35. WALLS, CEILINGS, ATTACHED EQUIPMENT CONSTRUCTED PER CODE: GOOD REPAIR, SURFACES CLEAN AND DUST-LESS CLEANING METHODS - COMMENTS: OBSERVED 72 X 38 IN WIDE SQUARE HOLE IN WALL AND CEILING OF MOP CLOSET, DIRECTLY ABOVE MOP SINK, AT ALL TIMES. INSTRUCTED MANAGER TO REPAIR AND MAINTAIN AT ALL TIMES. | 38. VENTILATION: ROOMS AND EQUIPMENT VENTED AS REQUIRED: PLUMBING: INSTALLED AND MAINTAINED - COMMENTS: OBSERVED SMALL LEAK UNDERNEATH 1 COMP SINK IN EARLY PRE SCHOOL CLASS ROOM. INSTRUCTED MANAGER TO REPAIR AND MAINTAIN AT ALL TIMES.  OBSERVED SMALL LEAK AT SPRAYER FAUCET IN PRE SCHOOL 1 CLASS ROOM. INSTRUCTED MANAGER TO REPAIR AND MAINTAIN AT ALL TIMES.  | 41. PREMISES MAINTAINED FREE OF LITTER, UNNECESSARY ARTICLES, CLEANING  EQUIPMENT PROPERLY STORED - COMMENTS: OBSERVED CLUTTER, ARTS AND CRAFTS SUPPLIES, STORED ON FLOOR IN CLOSET OF PRE-K ONE ROOM. INSTRUCTED MANAGER TO ELEVATE, REMOVE ANY UNNECESSARY ITEMS AND ORGANIZE ENTIRE AREA AND ELEVATE AT LEAST 6 INCHES OFF THE FLOOR AT ALL TIMES.'),\n",
       "             ('Location', '(41.90243867998565, -87.63427774207456)')])"
      ]
     },
     "execution_count": 25,
     "metadata": {},
     "output_type": "execute_result"
    }
   ],
   "source": [
    "food[0]"
   ]
  },
  {
   "cell_type": "markdown",
   "metadata": {},
   "source": [
    "# # check https://www.programiz.com/python-programming/methods/string to see how to use rstrip, lstrip and replace functions to solve problem 3"
   ]
  },
  {
   "cell_type": "code",
   "execution_count": null,
   "metadata": {},
   "outputs": [],
   "source": []
  }
 ],
 "metadata": {
  "kernelspec": {
   "display_name": "Python 3",
   "language": "python",
   "name": "python3"
  },
  "language_info": {
   "codemirror_mode": {
    "name": "ipython",
    "version": 3
   },
   "file_extension": ".py",
   "mimetype": "text/x-python",
   "name": "python",
   "nbconvert_exporter": "python",
   "pygments_lexer": "ipython3",
   "version": "3.7.3"
  }
 },
 "nbformat": 4,
 "nbformat_minor": 2
}
